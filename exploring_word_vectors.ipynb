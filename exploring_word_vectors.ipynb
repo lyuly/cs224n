{
  "nbformat": 4,
  "nbformat_minor": 0,
  "metadata": {
    "colab": {
      "name": "exploring_word_vectors.ipynb",
      "provenance": [],
      "authorship_tag": "ABX9TyPYgCefHS9ee6iU6VM0v8jx",
      "include_colab_link": true
    },
    "kernelspec": {
      "name": "python3",
      "display_name": "Python 3"
    },
    "language_info": {
      "name": "python"
    }
  },
  "cells": [
    {
      "cell_type": "markdown",
      "metadata": {
        "id": "view-in-github",
        "colab_type": "text"
      },
      "source": [
        "<a href=\"https://colab.research.google.com/github/lyuly/cs224n/blob/main/exploring_word_vectors.ipynb\" target=\"_parent\"><img src=\"https://colab.research.google.com/assets/colab-badge.svg\" alt=\"Open In Colab\"/></a>"
      ]
    },
    {
      "cell_type": "code",
      "source": [
        "from google.colab import drive\n",
        "drive.mount('/content/drive')"
      ],
      "metadata": {
        "colab": {
          "base_uri": "https://localhost:8080/"
        },
        "id": "C-fu0cSWJ6aw",
        "outputId": "68e9c287-c470-4abe-cec7-4d17a7f6e362"
      },
      "execution_count": 1,
      "outputs": [
        {
          "output_type": "stream",
          "name": "stdout",
          "text": [
            "Drive already mounted at /content/drive; to attempt to forcibly remount, call drive.mount(\"/content/drive\", force_remount=True).\n"
          ]
        }
      ]
    },
    {
      "cell_type": "code",
      "execution_count": 2,
      "metadata": {
        "colab": {
          "base_uri": "https://localhost:8080/"
        },
        "id": "mKKH9uOIJ2_R",
        "outputId": "57c1e826-a0d0-45a8-d68f-2d767a326bb4"
      },
      "outputs": [
        {
          "output_type": "stream",
          "name": "stdout",
          "text": [
            "[nltk_data] Downloading package reuters to /root/nltk_data...\n",
            "[nltk_data]   Package reuters is already up-to-date!\n",
            "Archive:  /root/nltk_data/corpora/reuters.zip\n",
            "replace /root/nltk_data/corpora/reuters/cats.txt? [y]es, [n]o, [A]ll, [N]one, [r]ename: n\n",
            "replace /root/nltk_data/corpora/reuters/README? [y]es, [n]o, [A]ll, [N]one, [r]ename: n\n",
            "replace /root/nltk_data/corpora/reuters/stopwords? [y]es, [n]o, [A]ll, [N]one, [r]ename: n\n",
            "replace /root/nltk_data/corpora/reuters/test/14826? [y]es, [n]o, [A]ll, [N]one, [r]ename: n\n",
            "replace /root/nltk_data/corpora/reuters/test/14828? [y]es, [n]o, [A]ll, [N]one, [r]ename: n\n",
            "replace /root/nltk_data/corpora/reuters/test/14829? [y]es, [n]o, [A]ll, [N]one, [r]ename: n\n",
            "replace /root/nltk_data/corpora/reuters/test/14832? [y]es, [n]o, [A]ll, [N]one, [r]ename: n\n",
            "replace /root/nltk_data/corpora/reuters/test/14833? [y]es, [n]o, [A]ll, [N]one, [r]ename: n\n",
            "replace /root/nltk_data/corpora/reuters/test/14839? [y]es, [n]o, [A]ll, [N]one, [r]ename: "
          ]
        }
      ],
      "source": [
        "import sys\n",
        "# import sys.version_info[0]==3\n",
        "# import sys.version_info[1] >= 5\n",
        "\n",
        "from platform import python_version\n",
        "assert int(python_version().split(\".\")[1]) >= 5, \"Please upgrade your Python version following the instructions in \\\n",
        "    the README.txt file found in the same directory as this notebook. Your Python version is \" + python_version()\n",
        "\n",
        "from gensim.models import KeyedVectors\n",
        "from gensim.test.utils import datapath\n",
        "import pprint\n",
        "import matplotlib.pyplot as plt\n",
        "plt.rcParams['figure.figsize'] = [10, 5]\n",
        "import nltk\n",
        "nltk.download('reuters')\n",
        "from nltk.corpus import reuters\n",
        "import numpy as np\n",
        "import random\n",
        "import scipy as sp\n",
        "from sklearn.decomposition import TruncatedSVD\n",
        "from sklearn.decomposition import PCA\n",
        "\n",
        "START_TOKEN = '<START>'\n",
        "END_TOKEN = '<END>'\n",
        "\n",
        "np.random.seed(0)\n",
        "random.seed(0)\n",
        "\n",
        "!unzip /root/nltk_data/corpora/reuters.zip -d '/root/nltk_data/corpora/'"
      ]
    },
    {
      "cell_type": "markdown",
      "source": [
        "# Part1:基于计数的单词向量"
      ],
      "metadata": {
        "id": "wZhrePHXXOWI"
      }
    },
    {
      "cell_type": "code",
      "source": [
        "# 从reuters中读取特定的种类\n",
        "def read_corpus(category=\"grain\"):\n",
        "  files = reuters.fileids(category)\n",
        "  return [[START_TOKEN] + [w.lower() for w in list(reuters.words(f))] + [END_TOKEN] for f in files]"
      ],
      "metadata": {
        "id": "SOVo2gNULWDW"
      },
      "execution_count": 3,
      "outputs": []
    },
    {
      "cell_type": "code",
      "source": [
        "reuters_corpus = read_corpus()\n",
        "pprint.pprint(reuters_corpus[:3], compact=True, width=100)"
      ],
      "metadata": {
        "colab": {
          "base_uri": "https://localhost:8080/"
        },
        "id": "rBYiA65fLUB6",
        "outputId": "f9615dc8-5564-4621-e79b-b5cfb3145373"
      },
      "execution_count": 4,
      "outputs": [
        {
          "output_type": "stream",
          "name": "stdout",
          "text": [
            "[['<START>', 'china', 'daily', 'says', 'vermin', 'eat', '7', '-', '12', 'pct', 'grain', 'stocks',\n",
            "  'a', 'survey', 'of', '19', 'provinces', 'and', 'seven', 'cities', 'showed', 'vermin', 'consume',\n",
            "  'between', 'seven', 'and', '12', 'pct', 'of', 'china', \"'\", 's', 'grain', 'stocks', ',', 'the',\n",
            "  'china', 'daily', 'said', '.', 'it', 'also', 'said', 'that', 'each', 'year', '1', '.', '575',\n",
            "  'mln', 'tonnes', ',', 'or', '25', 'pct', ',', 'of', 'china', \"'\", 's', 'fruit', 'output', 'are',\n",
            "  'left', 'to', 'rot', ',', 'and', '2', '.', '1', 'mln', 'tonnes', ',', 'or', 'up', 'to', '30',\n",
            "  'pct', ',', 'of', 'its', 'vegetables', '.', 'the', 'paper', 'blamed', 'the', 'waste', 'on',\n",
            "  'inadequate', 'storage', 'and', 'bad', 'preservation', 'methods', '.', 'it', 'said', 'the',\n",
            "  'government', 'had', 'launched', 'a', 'national', 'programme', 'to', 'reduce', 'waste', ',',\n",
            "  'calling', 'for', 'improved', 'technology', 'in', 'storage', 'and', 'preservation', ',', 'and',\n",
            "  'greater', 'production', 'of', 'additives', '.', 'the', 'paper', 'gave', 'no', 'further',\n",
            "  'details', '.', '<END>'],\n",
            " ['<START>', 'thai', 'trade', 'deficit', 'widens', 'in', 'first', 'quarter', 'thailand', \"'\", 's',\n",
            "  'trade', 'deficit', 'widened', 'to', '4', '.', '5', 'billion', 'baht', 'in', 'the', 'first',\n",
            "  'quarter', 'of', '1987', 'from', '2', '.', '1', 'billion', 'a', 'year', 'ago', ',', 'the',\n",
            "  'business', 'economics', 'department', 'said', '.', 'it', 'said', 'janunary', '/', 'march',\n",
            "  'imports', 'rose', 'to', '65', '.', '1', 'billion', 'baht', 'from', '58', '.', '7', 'billion',\n",
            "  '.', 'thailand', \"'\", 's', 'improved', 'business', 'climate', 'this', 'year', 'resulted', 'in',\n",
            "  'a', '27', 'pct', 'increase', 'in', 'imports', 'of', 'raw', 'materials', 'and', 'semi', '-',\n",
            "  'finished', 'products', '.', 'the', 'country', \"'\", 's', 'oil', 'import', 'bill', ',', 'however',\n",
            "  ',', 'fell', '23', 'pct', 'in', 'the', 'first', 'quarter', 'due', 'to', 'lower', 'oil', 'prices',\n",
            "  '.', 'the', 'department', 'said', 'first', 'quarter', 'exports', 'expanded', 'to', '60', '.', '6',\n",
            "  'billion', 'baht', 'from', '56', '.', '6', 'billion', '.', 'export', 'growth', 'was', 'smaller',\n",
            "  'than', 'expected', 'due', 'to', 'lower', 'earnings', 'from', 'many', 'key', 'commodities',\n",
            "  'including', 'rice', 'whose', 'earnings', 'declined', '18', 'pct', ',', 'maize', '66', 'pct', ',',\n",
            "  'sugar', '45', 'pct', ',', 'tin', '26', 'pct', 'and', 'canned', 'pineapples', 'seven', 'pct', '.',\n",
            "  'products', 'registering', 'high', 'export', 'growth', 'were', 'jewellery', 'up', '64', 'pct',\n",
            "  ',', 'clothing', '57', 'pct', 'and', 'rubber', '35', 'pct', '.', '<END>'],\n",
            " ['<START>', 'sri', 'lanka', 'gets', 'usda', 'approval', 'for', 'wheat', 'price', 'food',\n",
            "  'department', 'officials', 'said', 'the', 'u', '.', 's', '.', 'department', 'of', 'agriculture',\n",
            "  'approved', 'the', 'continental', 'grain', 'co', 'sale', 'of', '52', ',', '500', 'tonnes', 'of',\n",
            "  'soft', 'wheat', 'at', '89', 'u', '.', 's', '.', 'dlrs', 'a', 'tonne', 'c', 'and', 'f', 'from',\n",
            "  'pacific', 'northwest', 'to', 'colombo', '.', 'they', 'said', 'the', 'shipment', 'was', 'for',\n",
            "  'april', '8', 'to', '20', 'delivery', '.', '<END>']]\n"
          ]
        }
      ]
    },
    {
      "cell_type": "code",
      "source": [
        "# 找出语料库中不同的单词，列表返回的corpus_word应该是排过序的\n",
        "\n",
        "def distinct_words(corpus):\n",
        "  corpus_words = []\n",
        "  n_corpus_words = -1\n",
        "\n",
        "  corpus_words = sorted(set([x for lis in corpus for x in lis]))\n",
        "  n_corpus_words = len(corpus_words)\n",
        "\n",
        "  return corpus_words, n_corpus_words"
      ],
      "metadata": {
        "id": "N8O0d37QMKLz"
      },
      "execution_count": 5,
      "outputs": []
    },
    {
      "cell_type": "code",
      "source": [
        "# 运行检查\n",
        "\n",
        "# 定义语料\n",
        "test_corpus = [\"{} All that glitters isn't gold {}\".format(START_TOKEN, END_TOKEN).split(\" \"), \"{} All's well that ends well {}\".format(START_TOKEN, END_TOKEN).split(\" \")]\n",
        "test_corpus_words, num_corpus_words = distinct_words(test_corpus)\n",
        "\n",
        "# 正确的答案\n",
        "ans_test_corpus_words = sorted([START_TOKEN, \"All\", \"ends\", \"that\", \"gold\", \"All's\", \"glitters\", \"isn't\", \"well\", END_TOKEN])\n",
        "ans_num_corpus_words = len(ans_test_corpus_words)\n",
        "\n",
        "# 测试正确的单词的数量\n",
        "assert(num_corpus_words == ans_num_corpus_words), \"Incorrect number of distinct words. Correct: {}. Yours: {}\".format(ans_num_corpus_words, num_corpus_words)\n",
        "\n",
        "# 测试正确的单词\n",
        "assert (test_corpus_words == ans_test_corpus_words), \"Incorrect corpus_words.\\nCorrect: {}\\nYours:   {}\".format(str(ans_test_corpus_words), str(test_corpus_words))\n",
        "\n",
        "# 打印结果\n",
        "print(\"-\" * 80)\n",
        "print(\"Passed All Tests!\")\n",
        "print(\"-\" * 80)"
      ],
      "metadata": {
        "colab": {
          "base_uri": "https://localhost:8080/"
        },
        "id": "KBanfxEnNrVR",
        "outputId": "f6f80a1c-9dfd-4881-84d1-d08f1adb7aa5"
      },
      "execution_count": 6,
      "outputs": [
        {
          "output_type": "stream",
          "name": "stdout",
          "text": [
            "--------------------------------------------------------------------------------\n",
            "Passed All Tests!\n",
            "--------------------------------------------------------------------------------\n"
          ]
        }
      ]
    },
    {
      "cell_type": "code",
      "source": [
        "# 实现计算共现矩阵\n",
        "\n",
        "def compute_co_occurrence_matrix(corpus, window_size=4):\n",
        "  words, n_words = distinct_words(corpus)\n",
        "  M = None\n",
        "  word2ind = {}\n",
        "\n",
        "  M = np.zeros((n_words, n_words))\n",
        "  word2ind = {w: i for i, w in enumerate(words)}\n",
        "  for doc in corpus:\n",
        "    for i, word in enumerate(doc):\n",
        "      for j in range(i-window_size, i + window_size + 1):\n",
        "        if j < 0 or j >= len(doc):\n",
        "          continue\n",
        "        if j != i:\n",
        "          M[word2ind[word], word2ind[doc[j]]] += 1\n",
        "\n",
        "  return M, word2ind"
      ],
      "metadata": {
        "id": "fEV-X-RQPCVW"
      },
      "execution_count": 7,
      "outputs": []
    },
    {
      "cell_type": "code",
      "source": [
        "test_corpus = [\"{} All that glitters isn't gold {}\".format(START_TOKEN, END_TOKEN).split(\" \"), \"{} All's well that ends well {}\".format(START_TOKEN, END_TOKEN).split(\" \")]\n",
        "M_test, word2ind_test = compute_co_occurrence_matrix(test_corpus, window_size=1)\n",
        "\n",
        "# Correct M and word2ind\n",
        "M_test_ans = np.array( \n",
        "    [[0., 0., 0., 0., 0., 0., 1., 0., 0., 1.,],\n",
        "     [0., 0., 1., 1., 0., 0., 0., 0., 0., 0.,],\n",
        "     [0., 1., 0., 0., 0., 0., 0., 0., 1., 0.,],\n",
        "     [0., 1., 0., 0., 0., 0., 0., 0., 0., 1.,],\n",
        "     [0., 0., 0., 0., 0., 0., 0., 0., 1., 1.,],\n",
        "     [0., 0., 0., 0., 0., 0., 0., 1., 1., 0.,],\n",
        "     [1., 0., 0., 0., 0., 0., 0., 1., 0., 0.,],\n",
        "     [0., 0., 0., 0., 0., 1., 1., 0., 0., 0.,],\n",
        "     [0., 0., 1., 0., 1., 1., 0., 0., 0., 1.,],\n",
        "     [1., 0., 0., 1., 1., 0., 0., 0., 1., 0.,]]\n",
        ")\n",
        "ans_test_corpus_words = sorted([START_TOKEN, \"All\", \"ends\", \"that\", \"gold\", \"All's\", \"glitters\", \"isn't\", \"well\", END_TOKEN])\n",
        "word2ind_ans = dict(zip(ans_test_corpus_words, range(len(ans_test_corpus_words))))\n",
        "\n",
        "# Test correct word2ind\n",
        "assert (word2ind_ans == word2ind_test), \"Your word2ind is incorrect:\\nCorrect: {}\\nYours: {}\".format(word2ind_ans, word2ind_test)\n",
        "\n",
        "# Test correct M shape\n",
        "assert (M_test.shape == M_test_ans.shape), \"M matrix has incorrect shape.\\nCorrect: {}\\nYours: {}\".format(M_test.shape, M_test_ans.shape)\n",
        "\n",
        "# Test correct M values\n",
        "for w1 in word2ind_ans.keys():\n",
        "    idx1 = word2ind_ans[w1]\n",
        "    for w2 in word2ind_ans.keys():\n",
        "        idx2 = word2ind_ans[w2]\n",
        "        student = M_test[idx1, idx2]\n",
        "        correct = M_test_ans[idx1, idx2]\n",
        "        if student != correct:\n",
        "            print(\"Correct M:\")\n",
        "            print(M_test_ans)\n",
        "            print(\"Your M: \")\n",
        "            print(M_test)\n",
        "            raise AssertionError(\"Incorrect count at index ({}, {})=({}, {}) in matrix M. Yours has {} but should have {}.\".format(idx1, idx2, w1, w2, student, correct))\n",
        "\n",
        "# Print Success\n",
        "print (\"-\" * 80)\n",
        "print(\"Passed All Tests!\")\n",
        "print (\"-\" * 80)"
      ],
      "metadata": {
        "colab": {
          "base_uri": "https://localhost:8080/"
        },
        "id": "2K90-gHbSmMF",
        "outputId": "91e02bde-6fa1-4f1b-c686-75a6f97704c2"
      },
      "execution_count": 8,
      "outputs": [
        {
          "output_type": "stream",
          "name": "stdout",
          "text": [
            "--------------------------------------------------------------------------------\n",
            "Passed All Tests!\n",
            "--------------------------------------------------------------------------------\n"
          ]
        }
      ]
    },
    {
      "cell_type": "code",
      "source": [
        "# 实现减少到k维度\n",
        "def reduce_to_k_dim(M, k=2):\n",
        "  n_iters = 10\n",
        "  M_reduced = None\n",
        "  print(\"Running Truncated SVD over %i words...\" % (M.shape[0]))\n",
        "\n",
        "  SVD = TruncatedSVD(n_components=2, n_iter=n_iters)\n",
        "  M_reduced = SVD.fit_transform(M)\n",
        "\n",
        "  print(\"Done.\")\n",
        "  return M_reduced"
      ],
      "metadata": {
        "id": "uXXYCVSqSs45"
      },
      "execution_count": 9,
      "outputs": []
    },
    {
      "cell_type": "code",
      "source": [
        "# ---------------------\n",
        "# Run this sanity check\n",
        "# Note that this is not an exhaustive check for correctness \n",
        "# In fact we only check that your M_reduced has the right dimensions.\n",
        "# ---------------------\n",
        "\n",
        "# Define toy corpus and run student code\n",
        "test_corpus = [\"{} All that glitters isn't gold {}\".format(START_TOKEN, END_TOKEN).split(\" \"), \"{} All's well that ends well {}\".format(START_TOKEN, END_TOKEN).split(\" \")]\n",
        "M_test, word2ind_test = compute_co_occurrence_matrix(test_corpus, window_size=1)\n",
        "M_test_reduced = reduce_to_k_dim(M_test, k=2)\n",
        "\n",
        "# Test proper dimensions\n",
        "assert (M_test_reduced.shape[0] == 10), \"M_reduced has {} rows; should have {}\".format(M_test_reduced.shape[0], 10)\n",
        "assert (M_test_reduced.shape[1] == 2), \"M_reduced has {} columns; should have {}\".format(M_test_reduced.shape[1], 2)\n",
        "\n",
        "# Print Success\n",
        "print (\"-\" * 80)\n",
        "print(\"Passed All Tests!\")\n",
        "print (\"-\" * 80)"
      ],
      "metadata": {
        "colab": {
          "base_uri": "https://localhost:8080/"
        },
        "id": "2WXbpWvZTrUD",
        "outputId": "1fee738c-e6d0-4ea3-f1f7-19b888715ba7"
      },
      "execution_count": 10,
      "outputs": [
        {
          "output_type": "stream",
          "name": "stdout",
          "text": [
            "Running Truncated SVD over 10 words...\n",
            "Done.\n",
            "--------------------------------------------------------------------------------\n",
            "Passed All Tests!\n",
            "--------------------------------------------------------------------------------\n"
          ]
        }
      ]
    },
    {
      "cell_type": "code",
      "source": [
        "#实现plot_embeddings\n",
        "\n",
        "def plot_embeddings(M_reduced, word2ind, words):\n",
        "  for word in words:\n",
        "    coord = M_reduced[word2ind[word]]\n",
        "    x = coord[0]\n",
        "    y = coord[1]\n",
        "    plt.scatter(x, y, marker='x', color='red')\n",
        "    plt.text(x, y, word, fontsize=9)\n",
        "  plt.show()"
      ],
      "metadata": {
        "id": "lHG_XGPtT0fJ"
      },
      "execution_count": 11,
      "outputs": []
    },
    {
      "cell_type": "code",
      "source": [
        "# ---------------------\n",
        "# Run this sanity check\n",
        "# Note that this not an exhaustive check for correctness.\n",
        "# The plot produced should look like the \"test solution plot\" depicted below. \n",
        "# ---------------------\n",
        "\n",
        "print (\"-\" * 80)\n",
        "print (\"Outputted Plot:\")\n",
        "\n",
        "M_reduced_plot_test = np.array([[1, 1], [-1, -1], [1, -1], [-1, 1], [0, 0]])\n",
        "word2ind_plot_test = {'test1': 0, 'test2': 1, 'test3': 2, 'test4': 3, 'test5': 4}\n",
        "words = ['test1', 'test2', 'test3', 'test4', 'test5']\n",
        "plot_embeddings(M_reduced_plot_test, word2ind_plot_test, words)\n",
        "\n",
        "print (\"-\" * 80)"
      ],
      "metadata": {
        "colab": {
          "base_uri": "https://localhost:8080/",
          "height": 373
        },
        "id": "u_ZQ7y4jUg1I",
        "outputId": "6b6e6f97-9198-4fa1-e8ce-a1db551a63a3"
      },
      "execution_count": 12,
      "outputs": [
        {
          "output_type": "stream",
          "name": "stdout",
          "text": [
            "--------------------------------------------------------------------------------\n",
            "Outputted Plot:\n"
          ]
        },
        {
          "output_type": "display_data",
          "data": {
            "text/plain": [
              "<Figure size 720x360 with 1 Axes>"
            ],
            "image/png": "[encoded data removed]"
          },
          "metadata": {
            "needs_background": "light"
          }
        },
        {
          "output_type": "stream",
          "name": "stdout",
          "text": [
            "--------------------------------------------------------------------------------\n"
          ]
        }
      ]
    },
    {
      "cell_type": "code",
      "source": [
        "# 共现矩阵分析\n",
        "\n",
        "reuters_corpus = read_corpus()\n",
        "M_co_occurrence, word2ind_co_occurrence = compute_co_occurrence_matrix(reuters_corpus)\n",
        "M_reduced_co_occurrence = reduce_to_k_dim(M_co_occurrence, k=2)\n",
        "\n",
        "# Rescale (normalize) the rows to make them each of unit-length\n",
        "M_lengths = np.linalg.norm(M_reduced_co_occurrence, axis=1)\n",
        "M_normalized = M_reduced_co_occurrence / M_lengths[:, np.newaxis] # broadcasting\n",
        "\n",
        "words = ['tonnes', 'grain', 'wheat',  'agriculture', 'corn', 'maize', 'export', 'department', 'barley', 'grains', 'soybeans', 'sorghum']\n",
        "\n",
        "plot_embeddings(M_normalized, word2ind_co_occurrence, words)"
      ],
      "metadata": {
        "colab": {
          "base_uri": "https://localhost:8080/",
          "height": 355
        },
        "id": "CJnYkSm-UvJH",
        "outputId": "da251fd7-7ff2-453e-c28b-84afadd483d1"
      },
      "execution_count": 13,
      "outputs": [
        {
          "output_type": "stream",
          "name": "stdout",
          "text": [
            "Running Truncated SVD over 7146 words...\n",
            "Done.\n"
          ]
        },
        {
          "output_type": "display_data",
          "data": {
            "text/plain": [
              "<Figure size 720x360 with 1 Axes>"
            ],
            "image/png": "[encoded data removed]"
          },
          "metadata": {
            "needs_background": "light"
          }
        }
      ]
    },
    {
      "cell_type": "markdown",
      "source": [
        "#Part 2:基于预测的单词向量"
      ],
      "metadata": {
        "id": "VL3sOkZJXDSg"
      }
    },
    {
      "cell_type": "code",
      "source": [
        "!pip3 install --upgrade gensim"
      ],
      "metadata": {
        "colab": {
          "base_uri": "https://localhost:8080/"
        },
        "id": "v_1F6i1FYX8m",
        "outputId": "013d17a2-2b2f-4b84-9a65-0a89a44337ab"
      },
      "execution_count": 14,
      "outputs": [
        {
          "output_type": "stream",
          "name": "stdout",
          "text": [
            "Requirement already satisfied: gensim in /usr/local/lib/python3.7/dist-packages (4.1.2)\n",
            "Requirement already satisfied: smart-open>=1.8.1 in /usr/local/lib/python3.7/dist-packages (from gensim) (5.2.1)\n",
            "Requirement already satisfied: scipy>=0.18.1 in /usr/local/lib/python3.7/dist-packages (from gensim) (1.4.1)\n",
            "Requirement already satisfied: numpy>=1.17.0 in /usr/local/lib/python3.7/dist-packages (from gensim) (1.21.5)\n"
          ]
        }
      ]
    },
    {
      "cell_type": "code",
      "source": [
        "def load_embedding_model():\n",
        "  import gensim.downloader as api\n",
        "  wv_from_bin = api.load(\"glove-wiki-gigaword-200\")\n",
        "  print(\"Loaded vocab size is %i \" % len(list(wv_from_bin.index_to_key)))\n",
        "  return wv_from_bin"
      ],
      "metadata": {
        "id": "tZe_b8h_XIgn"
      },
      "execution_count": 15,
      "outputs": []
    },
    {
      "cell_type": "code",
      "source": [
        "wv_from_bin = load_embedding_model()"
      ],
      "metadata": {
        "colab": {
          "base_uri": "https://localhost:8080/"
        },
        "id": "gKjVWmq1Xovz",
        "outputId": "22340c31-35eb-418b-e559-f1b7381759fb"
      },
      "execution_count": 16,
      "outputs": [
        {
          "output_type": "stream",
          "name": "stdout",
          "text": [
            "Loaded vocab size is 400000 \n"
          ]
        }
      ]
    },
    {
      "cell_type": "code",
      "source": [
        "# 减少word Embeddings的维度\n",
        "def get_matrix_of_vectors(wv_from_bin, required_words=['tonnes', 'grain', 'wheat',  'agriculture', 'corn', 'maize', 'export', 'department', 'barley', 'grains', 'soybeans', 'sorghum']):\n",
        "    \"\"\" Put the GloVe vectors into a matrix M.\n",
        "        Param:\n",
        "            wv_from_bin: KeyedVectors object; the 400000 GloVe vectors loaded from file\n",
        "        Return:\n",
        "            M: numpy matrix shape (num words, 200) containing the vectors\n",
        "            word2ind: dictionary mapping each word to its row number in M\n",
        "    \"\"\"\n",
        "\n",
        "    import random\n",
        "    words = list(wv_from_bin.index_to_key)\n",
        "    print(\"Shuffling words ...\")\n",
        "    random.seed(225)\n",
        "    random.shuffle(words)\n",
        "    words = words[:10000]\n",
        "    print(\"Putting %i words into word2ind and matrix M...\" % len(words))\n",
        "    word2ind = {}\n",
        "    M = []\n",
        "    curInd = 0\n",
        "    for w in words:\n",
        "      try:\n",
        "        M.append(wv_from_bin.get_vector(w))\n",
        "        word2ind[w] = curInd\n",
        "        curInd += 1\n",
        "      except KeyError:\n",
        "        continue\n",
        "    for w in required_words:\n",
        "      if w in words:\n",
        "        continue\n",
        "      try:\n",
        "        M.append(wv_from_bin.get_vector(w))\n",
        "        word2ind[w] = curInd\n",
        "        curInd += 1\n",
        "      except KeyError:\n",
        "        continue\n",
        "    M = np.stack(M)\n",
        "    print(\"Done.\")\n",
        "    return M, word2ind"
      ],
      "metadata": {
        "id": "qgJqqkxTZOb7"
      },
      "execution_count": 17,
      "outputs": []
    },
    {
      "cell_type": "code",
      "source": [
        "# 减少200维度到k维度\n",
        "\n",
        "M, word2ind = get_matrix_of_vectors(wv_from_bin)\n",
        "M_reduced = reduce_to_k_dim(M, k=2)\n",
        "\n",
        "M_lengths = np.linalg.norm(M_reduced, axis=1)\n",
        "M_reduced_normalized = M_reduced / M_lengths[:, np.newaxis]"
      ],
      "metadata": {
        "colab": {
          "base_uri": "https://localhost:8080/"
        },
        "id": "rLRQCEr5apmS",
        "outputId": "d253bd06-fa82-41e6-c898-134dc15e323f"
      },
      "execution_count": 18,
      "outputs": [
        {
          "output_type": "stream",
          "name": "stdout",
          "text": [
            "Shuffling words ...\n",
            "Putting 10000 words into word2ind and matrix M...\n",
            "Done.\n",
            "Running Truncated SVD over 10012 words...\n",
            "Done.\n"
          ]
        }
      ]
    },
    {
      "cell_type": "code",
      "source": [
        "# Glove Plot Analysis\n",
        "words = ['tonnes', 'grain', 'wheat',  'agriculture', 'corn', 'maize', 'export', 'department', 'barley', 'grains', 'soybeans', 'sorghum']\n",
        "plot_embeddings(M_reduced_normalized, word2ind, words)"
      ],
      "metadata": {
        "colab": {
          "base_uri": "https://localhost:8080/",
          "height": 320
        },
        "id": "nrKfqZZ7c1Fu",
        "outputId": "c62f26eb-022f-4df3-f9b7-aeecdb4c9d06"
      },
      "execution_count": 19,
      "outputs": [
        {
          "output_type": "display_data",
          "data": {
            "text/plain": [
              "<Figure size 720x360 with 1 Axes>"
            ],
            "image/png": "[encoded data removed]"
          },
          "metadata": {
            "needs_background": "light"
          }
        }
      ]
    },
    {
      "cell_type": "code",
      "source": [
        "# words with Multiple Meanings\n",
        "wv_from_bin.most_similar('cloud')"
      ],
      "metadata": {
        "colab": {
          "base_uri": "https://localhost:8080/"
        },
        "id": "FRvlMCysdG1V",
        "outputId": "fb872f1d-e8d4-4115-f8e5-4cc421e04cfe"
      },
      "execution_count": 20,
      "outputs": [
        {
          "output_type": "execute_result",
          "data": {
            "text/plain": [
              "[('clouds', 0.7503163814544678),\n",
              " ('ash', 0.5862507820129395),\n",
              " ('shadow', 0.5425893068313599),\n",
              " ('dust', 0.531243085861206),\n",
              " ('sky', 0.5308398008346558),\n",
              " ('smoke', 0.5275063514709473),\n",
              " ('fog', 0.5158970355987549),\n",
              " ('horizon', 0.47844359278678894),\n",
              " ('mist', 0.4718891680240631),\n",
              " ('plume', 0.4643093943595886)]"
            ]
          },
          "metadata": {},
          "execution_count": 20
        }
      ]
    },
    {
      "cell_type": "code",
      "source": [
        "wv_from_bin.most_similar(positive=['woman', 'king'], negative=['man'])"
      ],
      "metadata": {
        "colab": {
          "base_uri": "https://localhost:8080/"
        },
        "id": "dkJQI15Cg0P6",
        "outputId": "69c28966-e67a-4360-d891-7608b3387cc1"
      },
      "execution_count": 25,
      "outputs": [
        {
          "output_type": "execute_result",
          "data": {
            "text/plain": [
              "[('queen', 0.6978678107261658),\n",
              " ('princess', 0.6081745028495789),\n",
              " ('monarch', 0.5889754891395569),\n",
              " ('throne', 0.5775108933448792),\n",
              " ('prince', 0.5750998258590698),\n",
              " ('elizabeth', 0.5463595986366272),\n",
              " ('daughter', 0.5399126410484314),\n",
              " ('kingdom', 0.5318052768707275),\n",
              " ('mother', 0.5168544054031372),\n",
              " ('crown', 0.5164473056793213)]"
            ]
          },
          "metadata": {},
          "execution_count": 25
        }
      ]
    },
    {
      "cell_type": "code",
      "source": [
        "wv_from_bin.most_similar('woman', 'man')"
      ],
      "metadata": {
        "colab": {
          "base_uri": "https://localhost:8080/"
        },
        "id": "R7ht1QFng6D9",
        "outputId": "d14e3d16-92bf-4379-bd07-1f355916698f"
      },
      "execution_count": 26,
      "outputs": [
        {
          "output_type": "execute_result",
          "data": {
            "text/plain": [
              "[('yesipova', 0.47934186458587646),\n",
              " ('scantily-clad', 0.46653106808662415),\n",
              " ('congresswoman', 0.4624992311000824),\n",
              " ('non-pregnant', 0.4618740379810333),\n",
              " ('arkhipova', 0.45348304510116577),\n",
              " ('menstruating', 0.444619357585907),\n",
              " ('premenopausal', 0.4388754665851593),\n",
              " ('bare-breasted', 0.4357142150402069),\n",
              " ('post-menopausal', 0.43187215924263),\n",
              " ('lactating', 0.42879149317741394)]"
            ]
          },
          "metadata": {},
          "execution_count": 26
        }
      ]
    },
    {
      "cell_type": "code",
      "source": [
        "# 同义词和反义词\n",
        "p1 = wv_from_bin.distance('happy','sad')\n",
        "p2 = wv_from_bin.distance('happy', 'cheerful')\n",
        "print(\"p1=\", p1, \"p2=\", p2)"
      ],
      "metadata": {
        "colab": {
          "base_uri": "https://localhost:8080/"
        },
        "id": "fN53hwqPhsjM",
        "outputId": "349735b8-ba1a-4832-c2c9-08e680e66c6e"
      },
      "execution_count": 36,
      "outputs": [
        {
          "output_type": "stream",
          "name": "stdout",
          "text": [
            "p1= 0.4040136933326721 p2= 0.5172466933727264\n"
          ]
        }
      ]
    },
    {
      "cell_type": "code",
      "source": [
        "# positive和negative是反义词，它们的余弦距离是0.198577\n",
        "# positive和energetic是近义词，它们的余弦距离是0.654664\n",
        "q1 = wv_from_bin.distance('positive', 'negative')\n",
        "q2 = wv_from_bin.distance('positive', 'energetic')\n",
        "print(\"q1=\", q1, \"q2=\", q2)"
      ],
      "metadata": {
        "colab": {
          "base_uri": "https://localhost:8080/"
        },
        "id": "grmqBFKJkXz8",
        "outputId": "cd15b7df-9432-45f1-c4c9-f70aeb49bf0d"
      },
      "execution_count": 38,
      "outputs": [
        {
          "output_type": "stream",
          "name": "stdout",
          "text": [
            "q1= 0.19857746362686157 q2= 0.6546646058559418\n"
          ]
        }
      ]
    },
    {
      "cell_type": "code",
      "source": [
        "# 词向量的类比\n",
        "pprint.pprint(wv_from_bin.most_similar(positive=['woman', 'grandfather'], negative=['man']))"
      ],
      "metadata": {
        "colab": {
          "base_uri": "https://localhost:8080/"
        },
        "id": "vV2lfjRIppIw",
        "outputId": "d5129aaf-7beb-49ba-b028-6e4f19e7a698"
      },
      "execution_count": 39,
      "outputs": [
        {
          "output_type": "stream",
          "name": "stdout",
          "text": [
            "[('grandmother', 0.7608445286750793),\n",
            " ('granddaughter', 0.7200808525085449),\n",
            " ('daughter', 0.7168302536010742),\n",
            " ('mother', 0.7151536345481873),\n",
            " ('niece', 0.7005682587623596),\n",
            " ('father', 0.6659887433052063),\n",
            " ('aunt', 0.6623408794403076),\n",
            " ('grandson', 0.6618767976760864),\n",
            " ('grandparents', 0.644661009311676),\n",
            " ('wife', 0.6445354223251343)]\n"
          ]
        }
      ]
    },
    {
      "cell_type": "code",
      "source": [
        "# 找到类比\n",
        "pprint.pprint(wv_from_bin.most_similar(positive=['english', 'spain'], negative=['canada']))"
      ],
      "metadata": {
        "colab": {
          "base_uri": "https://localhost:8080/"
        },
        "id": "TaK01zuH8kRK",
        "outputId": "9465b993-9eeb-4d71-a10a-f6c9afcb45ac"
      },
      "execution_count": 40,
      "outputs": [
        {
          "output_type": "stream",
          "name": "stdout",
          "text": [
            "[('spanish', 0.7254565358161926),\n",
            " ('portuguese', 0.5921587347984314),\n",
            " ('catalan', 0.555365800857544),\n",
            " ('madrid', 0.5476577877998352),\n",
            " ('castilian', 0.5269938111305237),\n",
            " ('barcelona', 0.5049525499343872),\n",
            " ('valencia', 0.4965393543243408),\n",
            " ('italian', 0.47707846760749817),\n",
            " ('arabic', 0.4736165404319763),\n",
            " ('andalusian', 0.46817514300346375)]\n"
          ]
        }
      ]
    },
    {
      "cell_type": "code",
      "source": [
        "# 不正确的类比\n",
        "pprint.pprint(wv_from_bin.most_similar(positive=['home', 'spain'], negative=['canada']))"
      ],
      "metadata": {
        "colab": {
          "base_uri": "https://localhost:8080/"
        },
        "id": "3VWGv2DwApEi",
        "outputId": "209485ab-9a0a-4d15-9a27-35eea2cf9602"
      },
      "execution_count": 41,
      "outputs": [
        {
          "output_type": "stream",
          "name": "stdout",
          "text": [
            "[('madrid', 0.607631504535675),\n",
            " ('valencia', 0.5698319673538208),\n",
            " ('spanish', 0.5302673578262329),\n",
            " ('barcelona', 0.5268616080284119),\n",
            " ('mallorca', 0.5059105753898621),\n",
            " ('real', 0.5058016180992126),\n",
            " ('sevilla', 0.5054329633712769),\n",
            " ('villarreal', 0.4907064735889435),\n",
            " ('villa', 0.4902358949184418),\n",
            " ('betis', 0.48088976740837097)]\n"
          ]
        }
      ]
    },
    {
      "cell_type": "code",
      "source": [
        "# 词向量偏差的引导分析\n",
        "pprint.pprint(wv_from_bin.most_similar(positive=['girl', 'toy'], negative=['boy']))\n",
        "print()\n",
        "pprint.pprint(wv_from_bin.most_similar(positive=['boy', 'toy'], negative=['girl']))"
      ],
      "metadata": {
        "colab": {
          "base_uri": "https://localhost:8080/"
        },
        "id": "ygrtCPhcBJBf",
        "outputId": "79095c91-22b9-4ea7-d632-3b0d90a5a4fb"
      },
      "execution_count": 42,
      "outputs": [
        {
          "output_type": "stream",
          "name": "stdout",
          "text": [
            "[('toys', 0.7094953060150146),\n",
            " ('doll', 0.5932914614677429),\n",
            " ('dolls', 0.570662260055542),\n",
            " ('barbie', 0.5407706499099731),\n",
            " ('mattel', 0.5328551530838013),\n",
            " ('accessories', 0.5206909775733948),\n",
            " ('hasbro', 0.49227219820022583),\n",
            " ('jewelry', 0.47385692596435547),\n",
            " ('lego', 0.4690813422203064),\n",
            " ('apparel', 0.46136239171028137)]\n",
            "\n",
            "[('toys', 0.71570885181427),\n",
            " ('hasbro', 0.5164632797241211),\n",
            " ('robot', 0.47317108511924744),\n",
            " ('pet', 0.4670490324497223),\n",
            " ('manufacturer', 0.4668163061141968),\n",
            " ('mattel', 0.4582391679286957),\n",
            " ('lego', 0.45811763405799866),\n",
            " ('miniature', 0.4441472291946411),\n",
            " ('makers', 0.44298243522644043),\n",
            " ('manufactured', 0.44275349378585815)]\n"
          ]
        }
      ]
    },
    {
      "cell_type": "code",
      "source": [
        "# 另外一个例子\n",
        "pprint.pprint(wv_from_bin.most_similar(positive=['woman', 'work'], negative=['man']))\n",
        "print()\n",
        "pprint.pprint(wv_from_bin.most_similar(positive=['man', 'work'], negative=['woman']))"
      ],
      "metadata": {
        "colab": {
          "base_uri": "https://localhost:8080/"
        },
        "id": "r5IJPLttB7tb",
        "outputId": "90eed7c7-da4d-429a-c4d8-39a3dbcf85ca"
      },
      "execution_count": 43,
      "outputs": [
        {
          "output_type": "stream",
          "name": "stdout",
          "text": [
            "[('working', 0.7039693593978882),\n",
            " ('she', 0.6549049615859985),\n",
            " ('works', 0.6526206731796265),\n",
            " ('her', 0.62950599193573),\n",
            " ('worked', 0.6136812567710876),\n",
            " ('done', 0.5867578387260437),\n",
            " ('women', 0.5766420364379883),\n",
            " ('well', 0.5649346709251404),\n",
            " ('workers', 0.5586629509925842),\n",
            " ('job', 0.5585523247718811)]\n",
            "\n",
            "[('working', 0.6912841796875),\n",
            " ('done', 0.6648033857345581),\n",
            " ('works', 0.6581295132637024),\n",
            " ('well', 0.653425931930542),\n",
            " ('way', 0.630937397480011),\n",
            " ('worked', 0.6259487271308899),\n",
            " ('so', 0.6176828145980835),\n",
            " ('he', 0.614930272102356),\n",
            " ('but', 0.6092712879180908),\n",
            " ('how', 0.606387734413147)]\n"
          ]
        }
      ]
    }
  ]
}